{
  "nbformat": 4,
  "nbformat_minor": 0,
  "metadata": {
    "colab": {
      "name": "bilgsislab.ipynb",
      "provenance": [],
      "collapsed_sections": []
    },
    "kernelspec": {
      "name": "python3",
      "display_name": "Python 3"
    },
    "language_info": {
      "name": "python"
    }
  },
  "cells": [
    {
      "cell_type": "code",
      "execution_count": null,
      "metadata": {
        "colab": {
          "base_uri": "https://localhost:8080/"
        },
        "id": "b9nQ1sh_bAqe",
        "outputId": "59a80ac1-021f-406b-fe58-0264e59259b6"
      },
      "outputs": [
        {
          "output_type": "stream",
          "name": "stdout",
          "text": [
            "Drive already mounted at /content/gdrive; to attempt to forcibly remount, call drive.mount(\"/content/gdrive\", force_remount=True).\n"
          ]
        }
      ],
      "source": [
        "import matplotlib.pyplot as plt\n",
        "import numpy as np\n",
        "from google.colab import drive\n",
        "drive.mount('/content/gdrive')"
      ]
    },
    {
      "cell_type": "code",
      "source": [
        "dataset = np.genfromtxt(\"/content/gdrive/MyDrive/nndata.csv\", delimiter=',')\n",
        "giris = dataset[:,:7]\n",
        "cikis = dataset[:,-1] #veri setinden giris cikis dizilerini olusturduk"
      ],
      "metadata": {
        "id": "bqztRoXMbOOn"
      },
      "execution_count": null,
      "outputs": []
    },
    {
      "cell_type": "code",
      "source": [
        "plt.title('VERI SETI', fontsize=16)\n",
        "plt.scatter(giris[:,0], giris[:,1])\n",
        "plt.grid() \n",
        "plt.show() #veri setinin grafigi"
      ],
      "metadata": {
        "colab": {
          "base_uri": "https://localhost:8080/",
          "height": 283
        },
        "id": "MwR1F3NJbOVA",
        "outputId": "47076649-c398-4b4e-daaa-f7987a56cf07"
      },
      "execution_count": null,
      "outputs": [
        {
          "output_type": "display_data",
          "data": {
            "image/png": "[encoded data removed]",
            "text/plain": [
              "<Figure size 432x288 with 1 Axes>"
            ]
          },
          "metadata": {
            "needs_background": "light"
          }
        }
      ]
    },
    {
      "cell_type": "code",
      "source": [
        "ogrenme_orani = 0.1 #her hatada tahmin edilen degerin degisecegi oran\n",
        "iter_sayisi = 10 #kac kez bastan ogrenecegi\n",
        "\n",
        "w = np.zeros(1 + giris.shape[1]) #omega degerlerimizin ilk hali\n",
        "hatalar = [] #hata sayimizi tutacagimiz degisken\n",
        "for _ in range(iter_sayisi):\n",
        "  hata = 0\n",
        "  for xi, hedef in zip(giris, cikis):\n",
        "    hesap = np.dot(xi, w[1:]) + w[0] #f = w1*x1 + w2*x2 + b fonksiyonu\n",
        "    tahmin = np.where(hesap >= 0.0, 1, 0) #fonksiyon sonucu 0 dan kucuk ise 0 buyuk ise 1\n",
        "    degisim = ogrenme_orani * (hedef - tahmin) #eger yanlis ise ogrenme orani * hata kadar degisim\n",
        "    w[1:] += degisim * xi\n",
        "    w[0] += degisim\n",
        "    hata += int(degisim != 0.0) #eger yanlissa hatayi arttir\n",
        "  hatalar.append(hata)"
      ],
      "metadata": {
        "id": "Bn1E9z3sbOYR"
      },
      "execution_count": null,
      "outputs": []
    },
    {
      "cell_type": "code",
      "source": [
        "hatalar #her iterasyonda hata sayilari"
      ],
      "metadata": {
        "colab": {
          "base_uri": "https://localhost:8080/"
        },
        "id": "ZrUK_nL7bObK",
        "outputId": "01f22726-803e-4610-ffe3-18431e0077c3"
      },
      "execution_count": null,
      "outputs": [
        {
          "output_type": "execute_result",
          "data": {
            "text/plain": [
              "[2, 0, 0, 0, 0, 0, 0, 0, 0, 0]"
            ]
          },
          "metadata": {},
          "execution_count": 99
        }
      ]
    },
    {
      "cell_type": "code",
      "source": [
        "w #omega degerlerimiz"
      ],
      "metadata": {
        "colab": {
          "base_uri": "https://localhost:8080/"
        },
        "id": "uftlgcQ-buMw",
        "outputId": "8d028f80-97eb-4db2-96f9-3fa3028ed3e4"
      },
      "execution_count": null,
      "outputs": [
        {
          "output_type": "execute_result",
          "data": {
            "text/plain": [
              "array([ 0.        ,  0.02928489, -1.74904287, -0.8350657 , -0.19055413,\n",
              "        1.08716641,  0.6546075 ,  0.2262323 ])"
            ]
          },
          "metadata": {},
          "execution_count": 100
        }
      ]
    },
    {
      "cell_type": "code",
      "source": [
        "plt.plot(range(1, len(hatalar) + 1), hatalar)\n",
        "plt.xlabel('Deneme No')\n",
        "plt.ylabel('Hatalı tahmin sayısı')\n",
        "plt.show() #hata sayilari grafigi"
      ],
      "metadata": {
        "colab": {
          "base_uri": "https://localhost:8080/",
          "height": 279
        },
        "id": "Cig5QqzFbuP_",
        "outputId": "e1e93ee7-7d54-4a39-ba4a-3584984e9cad"
      },
      "execution_count": null,
      "outputs": [
        {
          "output_type": "display_data",
          "data": {
            "image/png": "[encoded data removed]",
            "text/plain": [
              "<Figure size 432x288 with 1 Axes>"
            ]
          },
          "metadata": {
            "needs_background": "light"
          }
        }
      ]
    },
    {
      "cell_type": "code",
      "source": [
        "np.where(-2.3607238576457528 * w[1] + 9.518346596580436 * w[2] + 1.8483606179808003 * w[3] + 9.62115643470663 * w[4] + -8.37008940851254 * w[5] + 1.6157250616275787 * w[6] + 7.208178980641894 * w[7] + w[0] >= 0.0, 1, 0) #ornek deneme"
      ],
      "metadata": {
        "colab": {
          "base_uri": "https://localhost:8080/"
        },
        "id": "g1t5Et675n2Q",
        "outputId": "cc34488a-cbc8-4ab9-bc9a-63aeaa2337f0"
      },
      "execution_count": null,
      "outputs": [
        {
          "output_type": "execute_result",
          "data": {
            "text/plain": [
              "array(0)"
            ]
          },
          "metadata": {},
          "execution_count": 113
        }
      ]
    },
    {
      "cell_type": "code",
      "source": [
        "np.dot(w[1:], [-2.3607238576457528,9.518346596580436,1.8483606179808003,9.62115643470663,8.37008940851254,1.6157250616275787,7.208178980641894]) + w[0] #ornek deneme 0 dan kucuk oldugu icin 0 sonucu"
      ],
      "metadata": {
        "colab": {
          "base_uri": "https://localhost:8080/"
        },
        "id": "dBC-0j9fMoup",
        "outputId": "063a98eb-0fcb-43a6-8b34-9923852981a5"
      },
      "execution_count": null,
      "outputs": [
        {
          "output_type": "execute_result",
          "data": {
            "text/plain": [
              "-8.305914668538845"
            ]
          },
          "metadata": {},
          "execution_count": 119
        }
      ]
    }
  ]
}